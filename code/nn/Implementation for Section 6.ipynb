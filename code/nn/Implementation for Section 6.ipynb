{
 "cells": [
  {
   "cell_type": "markdown",
   "metadata": {},
   "source": [
    "# Implementation for Section 6\n",
    "\n",
    "**author: ** weiya<szcfweiya@gmail.com>\n",
    "\n",
    "This notebook is to implement [the Section 6 in Chapter 11 of ESL](https://esl.hohoweiya.xyz/11%20Neural%20Networks/11.6%20Example%20of%20Simulated%20Data/index.html)\n"
   ]
  },
  {
   "cell_type": "markdown",
   "metadata": {},
   "source": [
    "# Data\n",
    "$$\n",
    "Y=\\sigma(a_1^TX)+\\sigma(a_2^TX)+\\epsilon\n",
    "$$\n",
    "where $X^T=(X_1, X_2)$, and $X_j\\sim N(0,1)$. For the parameters, $a_1=(3,3),a_2=(3,-3)$. For the gaussian noise $\\epsilon$, we choose its variance to satisfy\n",
    "$$\n",
    "\\frac{Var(f(X))}{Var(\\epsilon)}=4\n",
    "$$"
   ]
  },
  {
   "cell_type": "code",
   "execution_count": 123,
   "metadata": {
    "collapsed": false
   },
   "outputs": [],
   "source": [
    "import numpy as np\n",
    "from scipy.special import expit\n",
    "# set up\n",
    "num_train = 100\n",
    "num_test = 10000\n",
    "# generate X\n",
    "np.random.seed(123)\n",
    "X_train = np.random.normal(0, 1, (num_train, 2))\n",
    "X_test = np.random.normal(0, 1, (num_test, 2))\n",
    "# parameters\n",
    "a_1 = np.array([3, 3])\n",
    "a_2 = np.array([3, -3])\n",
    "epsi_var = np.var(X_train) / 4\n",
    "epsi_train = np.random.normal(0, np.sqrt(epsi_var), num_train)\n",
    "epsi_test = np.random.normal(0, np.sqrt(epsi_var), num_test)"
   ]
  },
  {
   "cell_type": "code",
   "execution_count": 124,
   "metadata": {
    "collapsed": false
   },
   "outputs": [],
   "source": [
    "# generate y\n",
    "y_train = expit(X_train.dot(a_1)) + expit(X_train.dot(a_2)) + epsi_train\n",
    "y_test = expit(X_test.dot(a_1)) + expit(X_test.dot(a_2)) + epsi_test\n",
    "y_train = y_train.reshape(num_train, 1)\n",
    "y_test = y_test.reshape(num_test, 1)"
   ]
  },
  {
   "cell_type": "markdown",
   "metadata": {},
   "source": [
    "## Prediction\n",
    "$$\n",
    "Z_m=\\sigma(\\alpha_{0m}+\\alpha_m^TX)\\qquad m=1,\\ldots, M\\\\\n",
    "T_k = \\beta_{0k}+\\beta_k^TZ\\qquad k=1,\\ldots,K\\\\\n",
    "f_k(X) = g_k(T) = T\n",
    "$$"
   ]
  },
  {
   "cell_type": "markdown",
   "metadata": {},
   "source": [
    "## Loss function\n",
    "$$\n",
    "R = \\sum\\limits_{i=1}^N\\sum\\limits_{k=1}^K(y_{ik}-f_k(x_i))^2\n",
    "$$"
   ]
  },
  {
   "cell_type": "markdown",
   "metadata": {},
   "source": [
    "## BP\n",
    "$$\n",
    "\\begin{align}\n",
    "\\frac{\\partial R_i}{\\partial \\beta_{km}}&=\\delta_{ki}z_{mi}\\\\\n",
    "\\frac{\\partial R_i}{\\partial \\alpha_{m\\ell}}&=s_{mi}x_{i\\ell}\\\\\n",
    "\\frac{\\partial R_i}{\\partial \\beta_{0k}}&=\\delta_{ki}\\\\\n",
    "\\frac{\\partial R_i}{\\partial \\alpha_{0m}}&=s_{mi}\n",
    "\\end{align}\n",
    "$$\n",
    "where\n",
    "$$\n",
    "s_{mi}=\\sigma'(\\alpha_{0m}+\\alpha_m^Tx_i)\\sum\\limits_{k=1}^K\\beta_{km}\\delta_{ki}\n",
    "$$\n",
    "$$\n",
    "\\delta_{ki}=-2(y_{ik}-f_k(x_i))g'_k(\\beta_{0k}+\\beta_k^Tz_i)\n",
    "$$\n",
    "and we have \n",
    "$$\n",
    "\\begin{align}\n",
    "\\sigma'(v)&=\\sigma(v)\\cdot(1-\\sigma(v))\\\\\n",
    "g_k'(T)&=1\n",
    "\\end{align}\n",
    "$$\n",
    "**Note:** for softmax function, we have $g_k'(T) = g_k(T)\\cdot (1-g_k(T)))$"
   ]
  },
  {
   "cell_type": "code",
   "execution_count": 125,
   "metadata": {
    "collapsed": true
   },
   "outputs": [],
   "source": [
    "def train_model(nn_hdim, num_passes = 2000, print_loss = False):\n",
    "    # initialize\n",
    "    # np.random.seed(123)\n",
    "    alpha = np.random.randn(2, nn_hdim) / np.sqrt(2)\n",
    "    a = np.zeros((1, nn_hdim))\n",
    "    beta = np.random.randn(nn_hdim, 1) / np.sqrt(nn_hdim)\n",
    "    b = np.zeros((1, 1))\n",
    "    \n",
    "    reg_lambda = 0.0\n",
    "    gamma = 0.0005\n",
    "    \n",
    "    model = {}\n",
    "    \n",
    "    # gradient descent\n",
    "    for i in xrange(0, num_passes):\n",
    "        # forward pass\n",
    "        z = expit(X_train.dot(alpha) + a)\n",
    "        T = z.dot(beta) + b\n",
    "        pred = T\n",
    "        \n",
    "        # calculate the loss\n",
    "        if print_loss and i%100 == 0:\n",
    "            data_loss = np.sum(np.square(pred-y_train)) + reg_lambda/2 * (np.sum(np.square(alpha)) + np.sum(np.square(beta)))\n",
    "            print \"Loss after iteration %i: %f\" %(i, 1./num_train * data_loss)\n",
    "        \n",
    "        # back propagation\n",
    "        delta = -2*(y_train-pred)\n",
    "        dbeta = (z.T).dot(delta)\n",
    "        db = np.sum(delta, axis=0, keepdims=True)\n",
    "        s = delta.dot(beta.T) * (z*(1-z))\n",
    "        dalpha = np.dot(X_train.T, s)\n",
    "        da = np.sum(s, axis=0)\n",
    "        \n",
    "        # add regularization term\n",
    "        dbeta += reg_lambda * beta\n",
    "        dalpha += reg_lambda * alpha\n",
    "        \n",
    "        # gradient descent\n",
    "        alpha += -gamma * dalpha\n",
    "        a += -gamma * da\n",
    "        beta += -gamma * dbeta\n",
    "        b += -gamma * db\n",
    "        \n",
    "        # assign new parameters to the model\n",
    "        model = {'alpha': alpha, 'a': a, 'beta': beta, 'b':b}\n",
    "    return model"
   ]
  },
  {
   "cell_type": "code",
   "execution_count": 126,
   "metadata": {
    "collapsed": true
   },
   "outputs": [],
   "source": [
    "# test\n",
    "def test_model(model):\n",
    "    alpha, a, beta, b = model['alpha'], model['a'], model['beta'], model['b']\n",
    "    # forward pass\n",
    "    z = expit(X_test.dot(alpha) + a)\n",
    "    T = z.dot(beta) + b\n",
    "    pred = T\n",
    "    pred_loss = 1./num_test * np.sum(np.square(pred-y_test)) \n",
    "    return pred_loss"
   ]
  },
  {
   "cell_type": "code",
   "execution_count": 112,
   "metadata": {
    "collapsed": true
   },
   "outputs": [],
   "source": [
    "# vary the number of hidden units\n",
    "num_cases = 10\n",
    "num_repeat = 100\n",
    "mat_loss = np.zeros((num_repeat, num_cases))\n",
    "for i in xrange(0, 10):\n",
    "    for j in xrange(0, num_repeat):\n",
    "        model = train_model(i+1)\n",
    "        mat_loss[j, i] = test_model(model)"
   ]
  },
  {
   "cell_type": "code",
   "execution_count": 113,
   "metadata": {
    "collapsed": true
   },
   "outputs": [],
   "source": [
    "%matplotlib inline\n",
    "import matplotlib.pyplot as plt"
   ]
  },
  {
   "cell_type": "code",
   "execution_count": 120,
   "metadata": {
    "collapsed": false
   },
   "outputs": [
    {
     "data": {
      "image/png": "[encoded data removed]",
      "text/plain": [
       "<matplotlib.figure.Figure at 0x7f406d8a0190>"
      ]
     },
     "metadata": {},
     "output_type": "display_data"
    }
   ],
   "source": [
    "plt.plot([x+1 for x in range(10)], mat_loss.mean(axis=0))\n",
    "plt.ylabel('test error')\n",
    "plt.xlabel('number of hidden units')\n",
    "plt.title('sum of sigmoids')\n",
    "plt.show()"
   ]
  },
  {
   "cell_type": "code",
   "execution_count": 127,
   "metadata": {
    "collapsed": false
   },
   "outputs": [
    {
     "data": {
      "image/png": "[encoded data removed]",
      "text/plain": [
       "<matplotlib.figure.Figure at 0x7f406d539990>"
      ]
     },
     "metadata": {},
     "output_type": "display_data"
    }
   ],
   "source": [
    "# boxplot\n",
    "plt.boxplot(mat_loss)\n",
    "plt.ylabel('test error')\n",
    "plt.xlabel('number of hidden units')\n",
    "plt.title('sum of sigmoids')\n",
    "plt.show()"
   ]
  }
 ],
 "metadata": {
  "anaconda-cloud": {},
  "kernelspec": {
   "display_name": "Python [conda env:anaconda2]",
   "language": "python",
   "name": "conda-env-anaconda2-py"
  },
  "language_info": {
   "codemirror_mode": {
    "name": "ipython",
    "version": 2
   },
   "file_extension": ".py",
   "mimetype": "text/x-python",
   "name": "python",
   "nbconvert_exporter": "python",
   "pygments_lexer": "ipython2",
   "version": "2.7.12"
  }
 },
 "nbformat": 4,
 "nbformat_minor": 1
}
