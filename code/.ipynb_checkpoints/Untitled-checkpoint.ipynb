{
 "cells": [
  {
   "cell_type": "markdown",
   "metadata": {},
   "source": [
    "# RBM study"
   ]
  },
  {
   "cell_type": "code",
   "execution_count": 1,
   "metadata": {
    "collapsed": true
   },
   "outputs": [],
   "source": [
    "from theano.sandbox.rng_mrg import MRG_RandomStreams as RandomStreams"
   ]
  },
  {
   "cell_type": "code",
   "execution_count": 4,
   "metadata": {
    "collapsed": true
   },
   "outputs": [],
   "source": [
    "import numpy"
   ]
  },
  {
   "cell_type": "code",
   "execution_count": 5,
   "metadata": {
    "collapsed": true
   },
   "outputs": [],
   "source": [
    "numpy_rng = numpy.random.RandomState(1234)"
   ]
  },
  {
   "cell_type": "code",
   "execution_count": 2,
   "metadata": {
    "collapsed": false
   },
   "outputs": [
    {
     "name": "stdout",
     "output_type": "stream",
     "text": [
      "Help on class MRG_RandomStreams in module theano.sandbox.rng_mrg:\n",
      "\n",
      "class MRG_RandomStreams(__builtin__.object)\n",
      " |  Module component with similar interface to numpy.random\n",
      " |  (numpy.random.RandomState).\n",
      " |  \n",
      " |  Parameters\n",
      " |  ----------\n",
      " |  seed : int or list of 6 int\n",
      " |      A default seed to initialize the random state.\n",
      " |      If a single int is given, it will be replicated 6 times.\n",
      " |      The first 3 values of the seed must all be less than M1 = 2147483647,\n",
      " |      and not all 0; and the last 3 values must all be less than\n",
      " |      M2 = 2147462579, and not all 0.\n",
      " |  \n",
      " |  Methods defined here:\n",
      " |  \n",
      " |  __init__(self, seed=12345, use_cuda=None)\n",
      " |  \n",
      " |  binomial(self, size=None, n=1, p=0.5, ndim=None, dtype='int64', nstreams=None)\n",
      " |  \n",
      " |  get_substream_rstates(self, n_streams, dtype, inc_rstate=True)\n",
      " |      Initialize a matrix in which each row is a MRG stream state,\n",
      " |      and they are spaced by 2**72 samples.\n",
      " |  \n",
      " |  inc_rstate(self)\n",
      " |      Update self.rstate to be skipped 2^134 steps forward to the next stream\n",
      " |      start.\n",
      " |  \n",
      " |  multinomial(self, size=None, n=1, pvals=None, ndim=None, dtype='int64', nstreams=None)\n",
      " |      Sample `n` (`n` needs to be >= 1, default 1) times from a multinomial\n",
      " |      distribution defined by probabilities pvals.\n",
      " |      \n",
      " |      Example : pvals = [[.98, .01, .01], [.01, .49, .50]] and n=1 will\n",
      " |      probably result in [[1,0,0],[0,0,1]]. When setting n=2, this\n",
      " |      will probably result in [[2,0,0],[0,1,1]].\n",
      " |      \n",
      " |      Notes\n",
      " |      -----\n",
      " |      -`size` and `ndim` are only there keep the same signature as other\n",
      " |      uniform, binomial, normal, etc.\n",
      " |      TODO : adapt multinomial to take that into account\n",
      " |      \n",
      " |      -Does not do any value checking on pvals, i.e. there is no\n",
      " |      check that the elements are non-negative, less than 1, or\n",
      " |      sum to 1. passing pvals = [[-2., 2.]] will result in\n",
      " |      sampling [[0, 0]]\n",
      " |  \n",
      " |  multinomial_wo_replacement(self, size=None, n=1, pvals=None, ndim=None, dtype='int64', nstreams=None)\n",
      " |      Sample `n` times *WITHOUT replacement* from a multinomial distribution\n",
      " |      defined by probabilities pvals, and returns the indices of the sampled\n",
      " |      elements.\n",
      " |      `n` needs to be in [1, m], where m is the number of elements to select\n",
      " |      from, i.e. m == pvals.shape[1]. By default n = 1.\n",
      " |      \n",
      " |      Example : pvals = [[.98, .01, .01], [.01, .49, .50]] and n=1 will\n",
      " |      probably result in [[0],[2]]. When setting n=2, this\n",
      " |      will probably result in [[0,1],[2,1]].\n",
      " |      \n",
      " |      Notes\n",
      " |      -----\n",
      " |      -`size` and `ndim` are only there keep the same signature as other\n",
      " |      uniform, binomial, normal, etc.\n",
      " |      TODO : adapt multinomial to take that into account\n",
      " |      \n",
      " |      -Does not do any value checking on pvals, i.e. there is no\n",
      " |      check that the elements are non-negative, less than 1, or\n",
      " |      sum to 1. passing pvals = [[-2., 2.]] will result in\n",
      " |      sampling [[0, 0]]\n",
      " |  \n",
      " |  n_streams(self, size)\n",
      " |  \n",
      " |  normal(self, size, avg=0.0, std=1.0, ndim=None, dtype=None, nstreams=None)\n",
      " |      Parameters\n",
      " |      ----------\n",
      " |      size\n",
      " |          Can be a list of integers or Theano variables (ex: the shape\n",
      " |          of another Theano Variable).\n",
      " |      dtype\n",
      " |          The output data type. If dtype is not specified, it will be\n",
      " |          inferred from the dtype of low and high, but will be at\n",
      " |          least as precise as floatX.\n",
      " |      nstreams\n",
      " |          Number of streams.\n",
      " |  \n",
      " |  pretty_return(self, node_rstate, new_rstate, sample, size, nstreams)\n",
      " |  \n",
      " |  seed(self, seed=None)\n",
      " |      Re-initialize each random stream.\n",
      " |      \n",
      " |      Parameters\n",
      " |      ----------\n",
      " |      seed : None or integer in range 0 to 2**30\n",
      " |          Each random stream will be assigned a unique state that depends\n",
      " |          deterministically on this value.\n",
      " |      \n",
      " |      Returns\n",
      " |      -------\n",
      " |      None\n",
      " |  \n",
      " |  set_rstate(self, seed)\n",
      " |  \n",
      " |  uniform(self, size, low=0.0, high=1.0, ndim=None, dtype=None, nstreams=None)\n",
      " |      Sample a tensor of given size whose element from a uniform\n",
      " |      distribution between low and high.\n",
      " |      \n",
      " |      If the size argument is ambiguous on the number of dimensions,\n",
      " |      ndim may be a plain integer to supplement the missing information.\n",
      " |      \n",
      " |      Parameters\n",
      " |      ----------\n",
      " |      low\n",
      " |          Lower bound of the interval on which values are sampled.\n",
      " |          If the ``dtype`` arg is provided, ``low`` will be cast into\n",
      " |          dtype. This bound is excluded.\n",
      " |      high\n",
      " |          Higher bound of the interval on which values are sampled.\n",
      " |          If the ``dtype`` arg is provided, ``high`` will be cast into\n",
      " |          dtype. This bound is excluded.\n",
      " |      size\n",
      " |        Can be a list of integer or Theano variable (ex: the shape\n",
      " |        of other Theano Variable).\n",
      " |      dtype\n",
      " |          The output data type. If dtype is not specified, it will be\n",
      " |          inferred from the dtype of low and high, but will be at\n",
      " |          least as precise as floatX.\n",
      " |  \n",
      " |  updates(self)\n",
      " |  \n",
      " |  ----------------------------------------------------------------------\n",
      " |  Data descriptors defined here:\n",
      " |  \n",
      " |  __dict__\n",
      " |      dictionary for instance variables (if defined)\n",
      " |  \n",
      " |  __weakref__\n",
      " |      list of weak references to the object (if defined)\n",
      "\n"
     ]
    }
   ],
   "source": [
    "help(RandomStreams)"
   ]
  },
  {
   "cell_type": "code",
   "execution_count": 6,
   "metadata": {
    "collapsed": false
   },
   "outputs": [],
   "source": [
    "theano_rng = RandomStreams(numpy_rng.randint(2 ** 30))"
   ]
  },
  {
   "cell_type": "code",
   "execution_count": 7,
   "metadata": {
    "collapsed": false
   },
   "outputs": [
    {
     "data": {
      "text/plain": [
       "<theano.sandbox.rng_mrg.MRG_RandomStreams at 0x7fef50f5f610>"
      ]
     },
     "execution_count": 7,
     "metadata": {},
     "output_type": "execute_result"
    }
   ],
   "source": [
    "theano_rng"
   ]
  },
  {
   "cell_type": "code",
   "execution_count": 12,
   "metadata": {
    "collapsed": false
   },
   "outputs": [
    {
     "data": {
      "text/plain": [
       "Elemwise{Cast{int64}}.0"
      ]
     },
     "execution_count": 12,
     "metadata": {},
     "output_type": "execute_result"
    }
   ],
   "source": [
    "theano_rng.binomial(size=(100,10))# size is tupe of int or theano variables"
   ]
  },
  {
   "cell_type": "code",
   "execution_count": 14,
   "metadata": {
    "collapsed": false
   },
   "outputs": [],
   "source": [
    "test = theano_rng.binomial(size=(100,10), p=0.4)"
   ]
  },
  {
   "cell_type": "code",
   "execution_count": null,
   "metadata": {
    "collapsed": true
   },
   "outputs": [],
   "source": []
  }
 ],
 "metadata": {
  "anaconda-cloud": {},
  "kernelspec": {
   "display_name": "Python [conda root]",
   "language": "python",
   "name": "conda-root-py"
  },
  "language_info": {
   "codemirror_mode": {
    "name": "ipython",
    "version": 2
   },
   "file_extension": ".py",
   "mimetype": "text/x-python",
   "name": "python",
   "nbconvert_exporter": "python",
   "pygments_lexer": "ipython2",
   "version": "2.7.12"
  }
 },
 "nbformat": 4,
 "nbformat_minor": 1
}
